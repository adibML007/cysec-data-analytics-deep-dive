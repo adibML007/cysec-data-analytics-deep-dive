{
 "cells": [
  {
   "cell_type": "markdown",
   "id": "bcc46923",
   "metadata": {},
   "source": [
    "## CySec data analytics Deep dive lab\n",
    "\n",
    "In this lab, we'll continue from our analysis on the cysec data analytics lab. As you have seen in the previous lab, we only looked at accuracy of our models. There are many other performance metrics available for binary classification. We shall look at some of these in this lab."
   ]
  },
  {
   "cell_type": "markdown",
   "id": "927a62d9",
   "metadata": {},
   "source": [
    "## STEP 1: Import necessary libraries."
   ]
  },
  {
   "cell_type": "code",
   "execution_count": null,
   "id": "c38dc3b1",
   "metadata": {},
   "outputs": [],
   "source": []
  },
  {
   "cell_type": "markdown",
   "id": "4a3d878e",
   "metadata": {},
   "source": [
    "## STEP 2: Load the dataset"
   ]
  },
  {
   "cell_type": "code",
   "execution_count": null,
   "id": "41496659",
   "metadata": {},
   "outputs": [],
   "source": []
  },
  {
   "cell_type": "markdown",
   "id": "3f001b28",
   "metadata": {},
   "source": [
    "## STEP 3: Load the pre-processed features (X), target (y) and models from previous lab"
   ]
  },
  {
   "cell_type": "code",
   "execution_count": null,
   "id": "45d899a1",
   "metadata": {},
   "outputs": [],
   "source": []
  },
  {
   "cell_type": "markdown",
   "id": "3af98e70",
   "metadata": {},
   "source": [
    "Answer the following questions based on the plots.\n",
    "1. Which model seems to perform better than others?\n",
    "2. Why do you think it performed better?\n",
    "3. Please explain True positive, true negative, false positive and false negative values for binary classification in this context."
   ]
  },
  {
   "cell_type": "markdown",
   "id": "e40912cc",
   "metadata": {},
   "source": [
    "Enter you answer here and make sure to comment them out.\n",
    "\n",
    "1.\n",
    "2.\n",
    "3."
   ]
  },
  {
   "cell_type": "markdown",
   "id": "519af7db",
   "metadata": {},
   "source": [
    "## STEP 4: Visualize the model performance\n",
    "\n",
    "In this step, you need to visualize the model performance by plotting the confusion matrix. Know more about it here: https://www.geeksforgeeks.org/confusion-matrix-machine-learning/. Please use StratifiedKFold this time instead of KFold and use 5 splits. \n",
    "\n",
    "Hint: You should have figures like the following for each of the models\n",
    "\n",
    "https://github.com/adibML007/cysec-data-analytics-deep-dive/blob/main/Figures/confusion_matrix_LR_fold_5.png\n"
   ]
  },
  {
   "cell_type": "code",
   "execution_count": null,
   "id": "9caeb7ed",
   "metadata": {},
   "outputs": [],
   "source": []
  },
  {
   "cell_type": "markdown",
   "id": "bf1f2be0",
   "metadata": {},
   "source": [
    "## STEP 5: TPR and FPR analysis with Operating Characteristics Curve (AUC-ROC)\n",
    "In this step, we'll plot True positive rate (TPR) and False positive rate (FPR). These two values are extremely important for almost any ML models. In this plot, the area under the curve represents the AUC-ROC. Know more about it here: https://developers.google.com/machine-learning/crash-course/classification/roc-and-auc#:~:text=The%20area%20under%20the%20ROC,curve%20(AUC)%20of%201.0."
   ]
  },
  {
   "cell_type": "code",
   "execution_count": null,
   "id": "8f48bc11",
   "metadata": {},
   "outputs": [],
   "source": []
  },
  {
   "cell_type": "code",
   "execution_count": null,
   "id": "cf779af7",
   "metadata": {},
   "outputs": [],
   "source": []
  },
  {
   "cell_type": "markdown",
   "id": "434df128",
   "metadata": {},
   "source": [
    "## STEP 6: Check feature importance for Random Forest Classifier\n",
    "\n",
    "In this step, plot the top 10 most important features with their corresponding importance. Sample plot is here: https://github.com/adibML007/cysec-data-analytics-deep-dive/blob/main/Figures/feat_imp_top10.png\n"
   ]
  },
  {
   "cell_type": "code",
   "execution_count": null,
   "id": "066858ec",
   "metadata": {},
   "outputs": [],
   "source": []
  },
  {
   "cell_type": "markdown",
   "id": "e230e569",
   "metadata": {},
   "source": [
    "## STEP 7: Plot a Pareto chart\n",
    "There are many ways to show feature importance. One of the most popular ones is Pareto chart. Show the pareto chart that contains the factors whose contributions sum up to 80% like this one: https://github.com/adibML007/cysec-data-analytics-deep-dive/blob/main/Figures/pareto_chart.png\n"
   ]
  },
  {
   "cell_type": "code",
   "execution_count": null,
   "id": "547151b1",
   "metadata": {},
   "outputs": [],
   "source": []
  },
  {
   "cell_type": "markdown",
   "id": "c71ce91a",
   "metadata": {},
   "source": [
    "## STEP 8: Refine the model\n",
    "Use only the important features to refine the model. Create multiple subplots to show the results for each fold.\n",
    "\n",
    "Hint: You should have a figure like this: https://github.com/adibML007/cysec-data-analytics-deep-dive/blob/main/Figures/all_folds_cm.png\n"
   ]
  },
  {
   "cell_type": "code",
   "execution_count": null,
   "id": "5d09df11",
   "metadata": {},
   "outputs": [],
   "source": []
  },
  {
   "cell_type": "markdown",
   "id": "5ae4ab42",
   "metadata": {},
   "source": [
    "## STEP 9: Clustering analysis (Optional)\n",
    "\n",
    "Do a K-means clustering on the given dataset. Although it is not required for labeled dataset, this is just for practice. We can pretend that the label does not exist. \n",
    "\n",
    "Plot a figure like this with 3 clusters: https://github.com/adibML007/cysec-data-analytics-deep-dive/blob/main/Figures/clusters_3.png"
   ]
  },
  {
   "cell_type": "code",
   "execution_count": null,
   "id": "2d034d32",
   "metadata": {},
   "outputs": [],
   "source": []
  },
  {
   "cell_type": "markdown",
   "id": "44ce7b4a",
   "metadata": {},
   "source": [
    "## STEP 10: Convert your notebook file to a script (.py)"
   ]
  },
  {
   "cell_type": "code",
   "execution_count": 11,
   "id": "063fd2a0",
   "metadata": {},
   "outputs": [
    {
     "name": "stderr",
     "output_type": "stream",
     "text": [
      "[NbConvertApp] Converting notebook notebook.ipynb to script\n",
      "[NbConvertApp] Writing 3406 bytes to notebook.py\n"
     ]
    }
   ],
   "source": [
    "!jupyter nbconvert --to script notebook.ipynb"
   ]
  }
 ],
 "metadata": {
  "kernelspec": {
   "display_name": "Python 3",
   "language": "python",
   "name": "python3"
  },
  "language_info": {
   "codemirror_mode": {
    "name": "ipython",
    "version": 3
   },
   "file_extension": ".py",
   "mimetype": "text/x-python",
   "name": "python",
   "nbconvert_exporter": "python",
   "pygments_lexer": "ipython3",
   "version": "3.13.1"
  }
 },
 "nbformat": 4,
 "nbformat_minor": 5
}
